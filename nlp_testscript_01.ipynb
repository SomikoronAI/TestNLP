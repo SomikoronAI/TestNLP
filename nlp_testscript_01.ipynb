{
 "cells": [
  {
   "cell_type": "markdown",
   "id": "be0e8eb5",
   "metadata": {},
   "source": [
    "# Somikorno AI\n",
    "\n",
    "## Quick Test : NLP Problem 1\n",
    "\n",
    "#### Extract Native PDF"
   ]
  },
  {
   "cell_type": "markdown",
   "id": "6356577d",
   "metadata": {},
   "source": [
    "#### Goal \n",
    "\n",
    "To extract all meaningful english words from a native pdf file. This is a classic NLP problem.\n",
    "\n",
    "\n",
    "#### Some Key Points to Keep in  Mind\n",
    "\n",
    "1. One of the most critical programming skill that is need in NLP is to know how to use regular expression. Use regular expression quick help : https://www.w3schools.com/python/python_regex.asp\n",
    "\n",
    "2. Regular expression is needed for cleaning textual data\n",
    "\n",
    "3. You may or may not use `stemmer` to extract meaningful words/strings\n",
    "\n",
    "\n",
    "To successfully run this notebook you would need to have the followiing packages installed:\n",
    "    \n",
    "1. numpy\n",
    "\n",
    "2. pandas\n",
    "\n",
    "3. pypdf2"
   ]
  },
  {
   "cell_type": "markdown",
   "id": "b9a8a0c4",
   "metadata": {},
   "source": [
    "### Load Required Packages"
   ]
  },
  {
   "cell_type": "code",
   "execution_count": null,
   "id": "9c4f1c32",
   "metadata": {},
   "outputs": [],
   "source": [
    "import numpy as np\n",
    "import pandas as pd\n",
    "import os\n",
    "import re\n",
    "import json"
   ]
  },
  {
   "cell_type": "code",
   "execution_count": 1,
   "id": "49bf9d2d",
   "metadata": {},
   "outputs": [],
   "source": [
    "# !pip3 install pypdf2"
   ]
  },
  {
   "cell_type": "markdown",
   "id": "97754fb8",
   "metadata": {},
   "source": [
    "-------------------------------------------------------------------------------------------------"
   ]
  },
  {
   "cell_type": "markdown",
   "id": "4c878dc6",
   "metadata": {},
   "source": [
    "### Part 1 :  Read Data\n",
    "\n",
    "Read the `data_testscript_01.pdf` file  from your  working directory"
   ]
  },
  {
   "cell_type": "code",
   "execution_count": 2,
   "id": "0ec3c959",
   "metadata": {},
   "outputs": [],
   "source": [
    "reader = "
   ]
  },
  {
   "cell_type": "markdown",
   "id": "de5869b3",
   "metadata": {},
   "source": [
    "#### Find the number of pages"
   ]
  },
  {
   "cell_type": "code",
   "execution_count": 3,
   "id": "01f0d28d",
   "metadata": {},
   "outputs": [
    {
     "name": "stdout",
     "output_type": "stream",
     "text": [
      "4\n"
     ]
    }
   ],
   "source": [
    "number_of_pages = \n",
    "print(number_of_pages)"
   ]
  },
  {
   "cell_type": "markdown",
   "id": "8cba63de",
   "metadata": {},
   "source": [
    "#### Get the first page : indexed by 0"
   ]
  },
  {
   "cell_type": "code",
   "execution_count": 4,
   "id": "1927a2c8",
   "metadata": {},
   "outputs": [
    {
     "name": "stdout",
     "output_type": "stream",
     "text": [
      "{'/Type': '/Page', '/Parent': IndirectObject(3, 0), '/Resources': IndirectObject(6, 0), '/Contents': IndirectObject(4, 0), '/MediaBox': [0, 0, 595, 842], '/Rotate': 0}\n"
     ]
    }
   ],
   "source": [
    "page = \n",
    "print(page)"
   ]
  },
  {
   "cell_type": "markdown",
   "id": "f62293b4",
   "metadata": {},
   "source": [
    "#### Get text from the first page "
   ]
  },
  {
   "cell_type": "code",
   "execution_count": 5,
   "id": "02c00f43",
   "metadata": {},
   "outputs": [
    {
     "name": "stdout",
     "output_type": "stream",
     "text": [
      "  1 \n",
      " \n",
      "The Impact of Sample Bias on Consumer Credit \n",
      "Scoring Performance and Profitability \n",
      " \n",
      " \n",
      " \n",
      "Abstract \n",
      " \n",
      "This article seeks to gain insight into the influence of sample bias in a consumer credit \n",
      "scoring model. Considering the vital implications on revenues and costs concerned with the \n",
      "issuing and repayment of commercial credit, predictive performance of the model is crucial, \n",
      "and  sample  bias  has  been  suggested  to  pose  a  sizeable  threat  to  profitability  due  to  its \n",
      "implications  on  either  population  drainage  or  biased  estimates.    Whereas  in  previous \n",
      "research,  different  techniques  of  reducing  sample  bias  have  been  proposed  and  deployed, \n",
      "the  debate  around  the  impact  of  sample  bias  itself  has  predominantly  been  held  on  a \n",
      "theoretical level. The dataset that was used in this study, however, provides the opportunity \n",
      "to investigate the issue in an empirical setting.  Based on the data of a mail-order company \n",
      "offering  short  term  consumer  credit  to  their  consumers,  we  show  that  (i)  given  a  certain \n",
      "sample size, sample bias has a significant effect on consumer credit-scoring performance and \n",
      "profitability,  (ii)    its  effect  is  composed  of  the  inclusion  of  rejected  orders  in  the  scoring \n",
      "model, and the inclusion of these orders into the variable-selection process, (iii) the impact of \n",
      "the effect of sample bias on consumer credit scoring performance and profitability is limited \n",
      "and  (iv)  in  consumer  credit  scoring,  by  merely  increasing  the  sample  size  of  the  biased \n",
      "sample,  the  impact  of  sample  bias  can  likely  be  reduced.  Hence,  we  conclude  that  the \n",
      "possible  impact  of  any  reduction  of  sample  bias  is  modest  in  a  consumer  credit  scoring \n",
      "model, and that attention might optimally be focused on other factors leading to improved \n",
      "consumer credit scoring. \n",
      " \n",
      "Keywords:  Consumer Credit Scoring; Sample Bias; Reject Inference.  \n",
      " \n",
      " \n"
     ]
    }
   ],
   "source": [
    "text = \n",
    "print(text)"
   ]
  },
  {
   "cell_type": "markdown",
   "id": "0f59bcb0",
   "metadata": {},
   "source": [
    "-------------------------------------------------------------------------------------------------"
   ]
  },
  {
   "cell_type": "markdown",
   "id": "cb687633",
   "metadata": {},
   "source": [
    "Everything that has been written below has been done for Page 1 only "
   ]
  },
  {
   "cell_type": "markdown",
   "id": "6ea80c88",
   "metadata": {},
   "source": [
    "-------------------------------------------------------------------------------------------------"
   ]
  },
  {
   "cell_type": "markdown",
   "id": "09ebf426",
   "metadata": {},
   "source": [
    "### Part 2: Clean Data\n",
    "\n",
    "#### Step 1: Split the text by white-space"
   ]
  },
  {
   "cell_type": "code",
   "execution_count": 6,
   "id": "9834b84e",
   "metadata": {},
   "outputs": [
    {
     "name": "stdout",
     "output_type": "stream",
     "text": [
      "['', '', '1', '\\n', '\\nThe', 'Impact', 'of', 'Sample', 'Bias', 'on', 'Consumer', 'Credit', '\\nScoring', 'Performance', 'and', 'Profitability', '\\n', '\\n', '\\n', '\\nAbstract', '\\n', '\\nThis', 'article', 'seeks', 'to', 'gain', 'insight', 'into', 'the', 'influence', 'of', 'sample', 'bias', 'in', 'a', 'consumer', 'credit', '\\nscoring', 'model.', 'Considering', 'the', 'vital', 'implications', 'on', 'revenues', 'and', 'costs', 'concerned', 'with', 'the', '\\nissuing', 'and', 'repayment', 'of', 'commercial', 'credit,', 'predictive', 'performance', 'of', 'the', 'model', 'is', 'crucial,', '\\nand', '', 'sample', '', 'bias', '', 'has', '', 'been', '', 'suggested', '', 'to', '', 'pose', '', 'a', '', 'sizeable', '', 'threat', '', 'to', '', 'profitability', '', 'due', '', 'to', '', 'its', '\\nimplications', '', 'on', '', 'either', '', 'population', '', 'drainage', '', 'or', '', 'biased', '', 'estimates.', '', '', '', 'Whereas', '', 'in', '', 'previous', '\\nresearch,', '', 'different', '', 'techniques', '', 'of', '', 'reducing', '', 'sample', '', 'bias', '', 'have', '', 'been', '', 'proposed', '', 'and', '', 'deployed,', '\\nthe', '', 'debate', '', 'around', '', 'the', '', 'impact', '', 'of', '', 'sample', '', 'bias', '', 'itself', '', 'has', '', 'predominantly', '', 'been', '', 'held', '', 'on', '', 'a', '\\ntheoretical', 'level.', 'The', 'dataset', 'that', 'was', 'used', 'in', 'this', 'study,', 'however,', 'provides', 'the', 'opportunity', '\\nto', 'investigate', 'the', 'issue', 'in', 'an', 'empirical', 'setting.', '', 'Based', 'on', 'the', 'data', 'of', 'a', 'mail-order', 'company', '\\noffering', '', 'short', '', 'term', '', 'consumer', '', 'credit', '', 'to', '', 'their', '', 'consumers,', '', 'we', '', 'show', '', 'that', '', '(i)', '', 'given', '', 'a', '', 'certain', '\\nsample', 'size,', 'sample', 'bias', 'has', 'a', 'significant', 'effect', 'on', 'consumer', 'credit-scoring', 'performance', 'and', '\\nprofitability,', '', '(ii)', '', '', '', 'its', '', 'effect', '', 'is', '', 'composed', '', 'of', '', 'the', '', 'inclusion', '', 'of', '', 'rejected', '', 'orders', '', 'in', '', 'the', '', 'scoring', '\\nmodel,', 'and', 'the', 'inclusion', 'of', 'these', 'orders', 'into', 'the', 'variable-selection', 'process,', '(iii)', 'the', 'impact', 'of', '\\nthe', 'effect', 'of', 'sample', 'bias', 'on', 'consumer', 'credit', 'scoring', 'performance', 'and', 'profitability', 'is', 'limited', '\\nand', '', '(iv)', '', 'in', '', 'consumer', '', 'credit', '', 'scoring,', '', 'by', '', 'merely', '', 'increasing', '', 'the', '', 'sample', '', 'size', '', 'of', '', 'the', '', 'biased', '\\nsample,', '', 'the', '', 'impact', '', 'of', '', 'sample', '', 'bias', '', 'can', '', 'likely', '', 'be', '', 'reduced.', '', 'Hence,', '', 'we', '', 'conclude', '', 'that', '', 'the', '\\npossible', '', 'impact', '', 'of', '', 'any', '', 'reduction', '', 'of', '', 'sample', '', 'bias', '', 'is', '', 'modest', '', 'in', '', 'a', '', 'consumer', '', 'credit', '', 'scoring', '\\nmodel,', 'and', 'that', 'attention', 'might', 'optimally', 'be', 'focused', 'on', 'other', 'factors', 'leading', 'to', 'improved', '\\nconsumer', 'credit', 'scoring.', '\\n', '\\nKeywords:', '', 'Consumer', 'Credit', 'Scoring;', 'Sample', 'Bias;', 'Reject', 'Inference.', '', '\\n', '\\n', '']\n"
     ]
    }
   ],
   "source": [
    "_text1 = text.\n",
    "print( _text1)"
   ]
  },
  {
   "cell_type": "markdown",
   "id": "ab5343dc",
   "metadata": {},
   "source": [
    "#### Step 2 : Remove newline brake  and white space"
   ]
  },
  {
   "cell_type": "markdown",
   "id": "3f750808",
   "metadata": {},
   "source": [
    "Check & Learn : Use of replace() method"
   ]
  },
  {
   "cell_type": "code",
   "execution_count": 7,
   "id": "23db3f16",
   "metadata": {},
   "outputs": [],
   "source": [
    "#'\\nBangladesh'.replace('\\n','')\n",
    "#'\\nBangladesh\\n'.replace('\\n','')\n",
    "#'\\n\\nBangladesh\\n'.replace('\\n','')\n",
    "#'\\n\\nBangladesh\\\\n'.replace('\\n','')"
   ]
  },
  {
   "cell_type": "markdown",
   "id": "1f52c219",
   "metadata": {},
   "source": [
    "Check and Learn : Use of strip() method"
   ]
  },
  {
   "cell_type": "code",
   "execution_count": 8,
   "id": "baf384c5",
   "metadata": {},
   "outputs": [],
   "source": [
    "#' Bangaldesh Data Science '.strip()"
   ]
  },
  {
   "cell_type": "markdown",
   "id": "8031e909",
   "metadata": {},
   "source": [
    "Check & Learn : Combine the two methods"
   ]
  },
  {
   "cell_type": "code",
   "execution_count": 9,
   "id": "367dac96",
   "metadata": {},
   "outputs": [],
   "source": [
    "#' \\nBangaldesh Data Science\\n '.replace('\\n','').strip()"
   ]
  },
  {
   "cell_type": "markdown",
   "id": "1176ffdd",
   "metadata": {},
   "source": [
    "Step 2a : Apply your newly acquired knowledge to the original problem  "
   ]
  },
  {
   "cell_type": "code",
   "execution_count": 10,
   "id": "91dd0205",
   "metadata": {},
   "outputs": [
    {
     "name": "stdout",
     "output_type": "stream",
     "text": [
      "['', '', '1', '', 'The', 'Impact', 'of', 'Sample', 'Bias', 'on', 'Consumer', 'Credit', 'Scoring', 'Performance', 'and', 'Profitability', '', '', '', 'Abstract', '', 'This', 'article', 'seeks', 'to', 'gain', 'insight', 'into', 'the', 'influence', 'of', 'sample', 'bias', 'in', 'a', 'consumer', 'credit', 'scoring', 'model.', 'Considering', 'the', 'vital', 'implications', 'on', 'revenues', 'and', 'costs', 'concerned', 'with', 'the', 'issuing', 'and', 'repayment', 'of', 'commercial', 'credit,', 'predictive', 'performance', 'of', 'the', 'model', 'is', 'crucial,', 'and', '', 'sample', '', 'bias', '', 'has', '', 'been', '', 'suggested', '', 'to', '', 'pose', '', 'a', '', 'sizeable', '', 'threat', '', 'to', '', 'profitability', '', 'due', '', 'to', '', 'its', 'implications', '', 'on', '', 'either', '', 'population', '', 'drainage', '', 'or', '', 'biased', '', 'estimates.', '', '', '', 'Whereas', '', 'in', '', 'previous', 'research,', '', 'different', '', 'techniques', '', 'of', '', 'reducing', '', 'sample', '', 'bias', '', 'have', '', 'been', '', 'proposed', '', 'and', '', 'deployed,', 'the', '', 'debate', '', 'around', '', 'the', '', 'impact', '', 'of', '', 'sample', '', 'bias', '', 'itself', '', 'has', '', 'predominantly', '', 'been', '', 'held', '', 'on', '', 'a', 'theoretical', 'level.', 'The', 'dataset', 'that', 'was', 'used', 'in', 'this', 'study,', 'however,', 'provides', 'the', 'opportunity', 'to', 'investigate', 'the', 'issue', 'in', 'an', 'empirical', 'setting.', '', 'Based', 'on', 'the', 'data', 'of', 'a', 'mail-order', 'company', 'offering', '', 'short', '', 'term', '', 'consumer', '', 'credit', '', 'to', '', 'their', '', 'consumers,', '', 'we', '', 'show', '', 'that', '', '(i)', '', 'given', '', 'a', '', 'certain', 'sample', 'size,', 'sample', 'bias', 'has', 'a', 'significant', 'effect', 'on', 'consumer', 'credit-scoring', 'performance', 'and', 'profitability,', '', '(ii)', '', '', '', 'its', '', 'effect', '', 'is', '', 'composed', '', 'of', '', 'the', '', 'inclusion', '', 'of', '', 'rejected', '', 'orders', '', 'in', '', 'the', '', 'scoring', 'model,', 'and', 'the', 'inclusion', 'of', 'these', 'orders', 'into', 'the', 'variable-selection', 'process,', '(iii)', 'the', 'impact', 'of', 'the', 'effect', 'of', 'sample', 'bias', 'on', 'consumer', 'credit', 'scoring', 'performance', 'and', 'profitability', 'is', 'limited', 'and', '', '(iv)', '', 'in', '', 'consumer', '', 'credit', '', 'scoring,', '', 'by', '', 'merely', '', 'increasing', '', 'the', '', 'sample', '', 'size', '', 'of', '', 'the', '', 'biased', 'sample,', '', 'the', '', 'impact', '', 'of', '', 'sample', '', 'bias', '', 'can', '', 'likely', '', 'be', '', 'reduced.', '', 'Hence,', '', 'we', '', 'conclude', '', 'that', '', 'the', 'possible', '', 'impact', '', 'of', '', 'any', '', 'reduction', '', 'of', '', 'sample', '', 'bias', '', 'is', '', 'modest', '', 'in', '', 'a', '', 'consumer', '', 'credit', '', 'scoring', 'model,', 'and', 'that', 'attention', 'might', 'optimally', 'be', 'focused', 'on', 'other', 'factors', 'leading', 'to', 'improved', 'consumer', 'credit', 'scoring.', '', 'Keywords:', '', 'Consumer', 'Credit', 'Scoring;', 'Sample', 'Bias;', 'Reject', 'Inference.', '', '', '', '']\n"
     ]
    }
   ],
   "source": [
    "_text2a = \n",
    "print(_text2a)"
   ]
  },
  {
   "cell_type": "markdown",
   "id": "6d3adb80",
   "metadata": {},
   "source": [
    "Step 2b : Remove strings with length =  0 "
   ]
  },
  {
   "cell_type": "code",
   "execution_count": 11,
   "id": "ce28a13b",
   "metadata": {},
   "outputs": [
    {
     "name": "stdout",
     "output_type": "stream",
     "text": [
      "['1', 'The', 'Impact', 'of', 'Sample', 'Bias', 'on', 'Consumer', 'Credit', 'Scoring', 'Performance', 'and', 'Profitability', 'Abstract', 'This', 'article', 'seeks', 'to', 'gain', 'insight', 'into', 'the', 'influence', 'of', 'sample', 'bias', 'in', 'a', 'consumer', 'credit', 'scoring', 'model.', 'Considering', 'the', 'vital', 'implications', 'on', 'revenues', 'and', 'costs', 'concerned', 'with', 'the', 'issuing', 'and', 'repayment', 'of', 'commercial', 'credit,', 'predictive', 'performance', 'of', 'the', 'model', 'is', 'crucial,', 'and', 'sample', 'bias', 'has', 'been', 'suggested', 'to', 'pose', 'a', 'sizeable', 'threat', 'to', 'profitability', 'due', 'to', 'its', 'implications', 'on', 'either', 'population', 'drainage', 'or', 'biased', 'estimates.', 'Whereas', 'in', 'previous', 'research,', 'different', 'techniques', 'of', 'reducing', 'sample', 'bias', 'have', 'been', 'proposed', 'and', 'deployed,', 'the', 'debate', 'around', 'the', 'impact', 'of', 'sample', 'bias', 'itself', 'has', 'predominantly', 'been', 'held', 'on', 'a', 'theoretical', 'level.', 'The', 'dataset', 'that', 'was', 'used', 'in', 'this', 'study,', 'however,', 'provides', 'the', 'opportunity', 'to', 'investigate', 'the', 'issue', 'in', 'an', 'empirical', 'setting.', 'Based', 'on', 'the', 'data', 'of', 'a', 'mail-order', 'company', 'offering', 'short', 'term', 'consumer', 'credit', 'to', 'their', 'consumers,', 'we', 'show', 'that', '(i)', 'given', 'a', 'certain', 'sample', 'size,', 'sample', 'bias', 'has', 'a', 'significant', 'effect', 'on', 'consumer', 'credit-scoring', 'performance', 'and', 'profitability,', '(ii)', 'its', 'effect', 'is', 'composed', 'of', 'the', 'inclusion', 'of', 'rejected', 'orders', 'in', 'the', 'scoring', 'model,', 'and', 'the', 'inclusion', 'of', 'these', 'orders', 'into', 'the', 'variable-selection', 'process,', '(iii)', 'the', 'impact', 'of', 'the', 'effect', 'of', 'sample', 'bias', 'on', 'consumer', 'credit', 'scoring', 'performance', 'and', 'profitability', 'is', 'limited', 'and', '(iv)', 'in', 'consumer', 'credit', 'scoring,', 'by', 'merely', 'increasing', 'the', 'sample', 'size', 'of', 'the', 'biased', 'sample,', 'the', 'impact', 'of', 'sample', 'bias', 'can', 'likely', 'be', 'reduced.', 'Hence,', 'we', 'conclude', 'that', 'the', 'possible', 'impact', 'of', 'any', 'reduction', 'of', 'sample', 'bias', 'is', 'modest', 'in', 'a', 'consumer', 'credit', 'scoring', 'model,', 'and', 'that', 'attention', 'might', 'optimally', 'be', 'focused', 'on', 'other', 'factors', 'leading', 'to', 'improved', 'consumer', 'credit', 'scoring.', 'Keywords:', 'Consumer', 'Credit', 'Scoring;', 'Sample', 'Bias;', 'Reject', 'Inference.']\n"
     ]
    }
   ],
   "source": [
    "_text2b = \n",
    "print(_text2b)"
   ]
  },
  {
   "cell_type": "markdown",
   "id": "9847a29b",
   "metadata": {},
   "source": [
    "#### Step 3 : Remove special characters, such as,  full  stop, comma, color,  semi-colon, etc. "
   ]
  },
  {
   "cell_type": "markdown",
   "id": "b15226e4",
   "metadata": {},
   "source": [
    "We need a special package called `re`, aka, `regular expression`"
   ]
  },
  {
   "cell_type": "code",
   "execution_count": 12,
   "id": "455688d1",
   "metadata": {},
   "outputs": [],
   "source": [
    "import re"
   ]
  },
  {
   "cell_type": "markdown",
   "id": "9242540b",
   "metadata": {},
   "source": [
    "Check and Learn : use 'sub' function to remove special characters"
   ]
  },
  {
   "cell_type": "code",
   "execution_count": 13,
   "id": "cf127acd",
   "metadata": {},
   "outputs": [],
   "source": [
    "#re.sub('[:;.\\[\\]]','','.[Bias Term];')"
   ]
  },
  {
   "cell_type": "code",
   "execution_count": 14,
   "id": "b5d95baa",
   "metadata": {},
   "outputs": [
    {
     "name": "stdout",
     "output_type": "stream",
     "text": [
      "['1', 'The', 'Impact', 'of', 'Sample', 'Bias', 'on', 'Consumer', 'Credit', 'Scoring', 'Performance', 'and', 'Profitability', 'Abstract', 'This', 'article', 'seeks', 'to', 'gain', 'insight', 'into', 'the', 'influence', 'of', 'sample', 'bias', 'in', 'a', 'consumer', 'credit', 'scoring', 'model', 'Considering', 'the', 'vital', 'implications', 'on', 'revenues', 'and', 'costs', 'concerned', 'with', 'the', 'issuing', 'and', 'repayment', 'of', 'commercial', 'credit', 'predictive', 'performance', 'of', 'the', 'model', 'is', 'crucial', 'and', 'sample', 'bias', 'has', 'been', 'suggested', 'to', 'pose', 'a', 'sizeable', 'threat', 'to', 'profitability', 'due', 'to', 'its', 'implications', 'on', 'either', 'population', 'drainage', 'or', 'biased', 'estimates', 'Whereas', 'in', 'previous', 'research', 'different', 'techniques', 'of', 'reducing', 'sample', 'bias', 'have', 'been', 'proposed', 'and', 'deployed', 'the', 'debate', 'around', 'the', 'impact', 'of', 'sample', 'bias', 'itself', 'has', 'predominantly', 'been', 'held', 'on', 'a', 'theoretical', 'level', 'The', 'dataset', 'that', 'was', 'used', 'in', 'this', 'study', 'however', 'provides', 'the', 'opportunity', 'to', 'investigate', 'the', 'issue', 'in', 'an', 'empirical', 'setting', 'Based', 'on', 'the', 'data', 'of', 'a', 'mail-order', 'company', 'offering', 'short', 'term', 'consumer', 'credit', 'to', 'their', 'consumers', 'we', 'show', 'that', '(i)', 'given', 'a', 'certain', 'sample', 'size', 'sample', 'bias', 'has', 'a', 'significant', 'effect', 'on', 'consumer', 'credit-scoring', 'performance', 'and', 'profitability', '(ii)', 'its', 'effect', 'is', 'composed', 'of', 'the', 'inclusion', 'of', 'rejected', 'orders', 'in', 'the', 'scoring', 'model', 'and', 'the', 'inclusion', 'of', 'these', 'orders', 'into', 'the', 'variable-selection', 'process', '(iii)', 'the', 'impact', 'of', 'the', 'effect', 'of', 'sample', 'bias', 'on', 'consumer', 'credit', 'scoring', 'performance', 'and', 'profitability', 'is', 'limited', 'and', '(iv)', 'in', 'consumer', 'credit', 'scoring', 'by', 'merely', 'increasing', 'the', 'sample', 'size', 'of', 'the', 'biased', 'sample', 'the', 'impact', 'of', 'sample', 'bias', 'can', 'likely', 'be', 'reduced', 'Hence', 'we', 'conclude', 'that', 'the', 'possible', 'impact', 'of', 'any', 'reduction', 'of', 'sample', 'bias', 'is', 'modest', 'in', 'a', 'consumer', 'credit', 'scoring', 'model', 'and', 'that', 'attention', 'might', 'optimally', 'be', 'focused', 'on', 'other', 'factors', 'leading', 'to', 'improved', 'consumer', 'credit', 'scoring', 'Keywords', 'Consumer', 'Credit', 'Scoring', 'Sample', 'Bias', 'Reject', 'Inference']\n",
      "\n",
      "number of total strings : 282\n"
     ]
    }
   ],
   "source": [
    "_text3 = \n",
    "print(_text3)\n",
    "print('')\n",
    "print( 'number of total strings :', len(_text3) )"
   ]
  },
  {
   "cell_type": "markdown",
   "id": "c81fa771",
   "metadata": {},
   "source": [
    "#### Step 4 : Remove un-wanted  strings, such as, (i), (ii), (iii), ... etc."
   ]
  },
  {
   "cell_type": "code",
   "execution_count": 15,
   "id": "128a8c5b",
   "metadata": {},
   "outputs": [],
   "source": [
    "# s = '(i) this is item number one, (ii) this is item number two'\n",
    "# re.sub('\\([a-z]+\\)','',s)"
   ]
  },
  {
   "cell_type": "code",
   "execution_count": 16,
   "id": "97310c61",
   "metadata": {},
   "outputs": [
    {
     "name": "stdout",
     "output_type": "stream",
     "text": [
      "['1', 'The', 'Impact', 'of', 'Sample', 'Bias', 'on', 'Consumer', 'Credit', 'Scoring', 'Performance', 'and', 'Profitability', 'Abstract', 'This', 'article', 'seeks', 'to', 'gain', 'insight', 'into', 'the', 'influence', 'of', 'sample', 'bias', 'in', 'a', 'consumer', 'credit', 'scoring', 'model', 'Considering', 'the', 'vital', 'implications', 'on', 'revenues', 'and', 'costs', 'concerned', 'with', 'the', 'issuing', 'and', 'repayment', 'of', 'commercial', 'credit', 'predictive', 'performance', 'of', 'the', 'model', 'is', 'crucial', 'and', 'sample', 'bias', 'has', 'been', 'suggested', 'to', 'pose', 'a', 'sizeable', 'threat', 'to', 'profitability', 'due', 'to', 'its', 'implications', 'on', 'either', 'population', 'drainage', 'or', 'biased', 'estimates', 'Whereas', 'in', 'previous', 'research', 'different', 'techniques', 'of', 'reducing', 'sample', 'bias', 'have', 'been', 'proposed', 'and', 'deployed', 'the', 'debate', 'around', 'the', 'impact', 'of', 'sample', 'bias', 'itself', 'has', 'predominantly', 'been', 'held', 'on', 'a', 'theoretical', 'level', 'The', 'dataset', 'that', 'was', 'used', 'in', 'this', 'study', 'however', 'provides', 'the', 'opportunity', 'to', 'investigate', 'the', 'issue', 'in', 'an', 'empirical', 'setting', 'Based', 'on', 'the', 'data', 'of', 'a', 'mail-order', 'company', 'offering', 'short', 'term', 'consumer', 'credit', 'to', 'their', 'consumers', 'we', 'show', 'that', '', 'given', 'a', 'certain', 'sample', 'size', 'sample', 'bias', 'has', 'a', 'significant', 'effect', 'on', 'consumer', 'credit-scoring', 'performance', 'and', 'profitability', '', 'its', 'effect', 'is', 'composed', 'of', 'the', 'inclusion', 'of', 'rejected', 'orders', 'in', 'the', 'scoring', 'model', 'and', 'the', 'inclusion', 'of', 'these', 'orders', 'into', 'the', 'variable-selection', 'process', '', 'the', 'impact', 'of', 'the', 'effect', 'of', 'sample', 'bias', 'on', 'consumer', 'credit', 'scoring', 'performance', 'and', 'profitability', 'is', 'limited', 'and', '', 'in', 'consumer', 'credit', 'scoring', 'by', 'merely', 'increasing', 'the', 'sample', 'size', 'of', 'the', 'biased', 'sample', 'the', 'impact', 'of', 'sample', 'bias', 'can', 'likely', 'be', 'reduced', 'Hence', 'we', 'conclude', 'that', 'the', 'possible', 'impact', 'of', 'any', 'reduction', 'of', 'sample', 'bias', 'is', 'modest', 'in', 'a', 'consumer', 'credit', 'scoring', 'model', 'and', 'that', 'attention', 'might', 'optimally', 'be', 'focused', 'on', 'other', 'factors', 'leading', 'to', 'improved', 'consumer', 'credit', 'scoring', 'Keywords', 'Consumer', 'Credit', 'Scoring', 'Sample', 'Bias', 'Reject', 'Inference']\n",
      "\n",
      "number of total strings : 282\n"
     ]
    }
   ],
   "source": [
    "_text4a = \n",
    "print(_text4a)\n",
    "print('')\n",
    "print( 'number of total strings :', len(_text4a) )"
   ]
  },
  {
   "cell_type": "markdown",
   "id": "cdfb2844",
   "metadata": {},
   "source": [
    "Remove strings with length 0"
   ]
  },
  {
   "cell_type": "code",
   "execution_count": 17,
   "id": "b672be24",
   "metadata": {},
   "outputs": [
    {
     "name": "stdout",
     "output_type": "stream",
     "text": [
      "['1', 'The', 'Impact', 'of', 'Sample', 'Bias', 'on', 'Consumer', 'Credit', 'Scoring', 'Performance', 'and', 'Profitability', 'Abstract', 'This', 'article', 'seeks', 'to', 'gain', 'insight', 'into', 'the', 'influence', 'of', 'sample', 'bias', 'in', 'a', 'consumer', 'credit', 'scoring', 'model', 'Considering', 'the', 'vital', 'implications', 'on', 'revenues', 'and', 'costs', 'concerned', 'with', 'the', 'issuing', 'and', 'repayment', 'of', 'commercial', 'credit', 'predictive', 'performance', 'of', 'the', 'model', 'is', 'crucial', 'and', 'sample', 'bias', 'has', 'been', 'suggested', 'to', 'pose', 'a', 'sizeable', 'threat', 'to', 'profitability', 'due', 'to', 'its', 'implications', 'on', 'either', 'population', 'drainage', 'or', 'biased', 'estimates', 'Whereas', 'in', 'previous', 'research', 'different', 'techniques', 'of', 'reducing', 'sample', 'bias', 'have', 'been', 'proposed', 'and', 'deployed', 'the', 'debate', 'around', 'the', 'impact', 'of', 'sample', 'bias', 'itself', 'has', 'predominantly', 'been', 'held', 'on', 'a', 'theoretical', 'level', 'The', 'dataset', 'that', 'was', 'used', 'in', 'this', 'study', 'however', 'provides', 'the', 'opportunity', 'to', 'investigate', 'the', 'issue', 'in', 'an', 'empirical', 'setting', 'Based', 'on', 'the', 'data', 'of', 'a', 'mail-order', 'company', 'offering', 'short', 'term', 'consumer', 'credit', 'to', 'their', 'consumers', 'we', 'show', 'that', 'given', 'a', 'certain', 'sample', 'size', 'sample', 'bias', 'has', 'a', 'significant', 'effect', 'on', 'consumer', 'credit-scoring', 'performance', 'and', 'profitability', 'its', 'effect', 'is', 'composed', 'of', 'the', 'inclusion', 'of', 'rejected', 'orders', 'in', 'the', 'scoring', 'model', 'and', 'the', 'inclusion', 'of', 'these', 'orders', 'into', 'the', 'variable-selection', 'process', 'the', 'impact', 'of', 'the', 'effect', 'of', 'sample', 'bias', 'on', 'consumer', 'credit', 'scoring', 'performance', 'and', 'profitability', 'is', 'limited', 'and', 'in', 'consumer', 'credit', 'scoring', 'by', 'merely', 'increasing', 'the', 'sample', 'size', 'of', 'the', 'biased', 'sample', 'the', 'impact', 'of', 'sample', 'bias', 'can', 'likely', 'be', 'reduced', 'Hence', 'we', 'conclude', 'that', 'the', 'possible', 'impact', 'of', 'any', 'reduction', 'of', 'sample', 'bias', 'is', 'modest', 'in', 'a', 'consumer', 'credit', 'scoring', 'model', 'and', 'that', 'attention', 'might', 'optimally', 'be', 'focused', 'on', 'other', 'factors', 'leading', 'to', 'improved', 'consumer', 'credit', 'scoring', 'Keywords', 'Consumer', 'Credit', 'Scoring', 'Sample', 'Bias', 'Reject', 'Inference']\n",
      "\n",
      "number of total strings : 278\n"
     ]
    }
   ],
   "source": [
    "_text4b = \n",
    "print(_text4b)\n",
    "print('')\n",
    "print( 'number of total strings :', len(_text4b) )"
   ]
  },
  {
   "cell_type": "markdown",
   "id": "b1149e0a",
   "metadata": {},
   "source": [
    "#### Step 5 : Lower case all strings"
   ]
  },
  {
   "cell_type": "markdown",
   "id": "5adc35a8",
   "metadata": {},
   "source": [
    "Check & Learn : Lower case a string "
   ]
  },
  {
   "cell_type": "code",
   "execution_count": 18,
   "id": "20ed6910",
   "metadata": {},
   "outputs": [],
   "source": [
    "#'BANGLADESH'.lower()\n",
    "#'Bangladesh'.lower()"
   ]
  },
  {
   "cell_type": "code",
   "execution_count": 19,
   "id": "4a28b093",
   "metadata": {},
   "outputs": [
    {
     "name": "stdout",
     "output_type": "stream",
     "text": [
      "['1', 'the', 'impact', 'of', 'sample', 'bias', 'on', 'consumer', 'credit', 'scoring', 'performance', 'and', 'profitability', 'abstract', 'this', 'article', 'seeks', 'to', 'gain', 'insight', 'into', 'the', 'influence', 'of', 'sample', 'bias', 'in', 'a', 'consumer', 'credit', 'scoring', 'model', 'considering', 'the', 'vital', 'implications', 'on', 'revenues', 'and', 'costs', 'concerned', 'with', 'the', 'issuing', 'and', 'repayment', 'of', 'commercial', 'credit', 'predictive', 'performance', 'of', 'the', 'model', 'is', 'crucial', 'and', 'sample', 'bias', 'has', 'been', 'suggested', 'to', 'pose', 'a', 'sizeable', 'threat', 'to', 'profitability', 'due', 'to', 'its', 'implications', 'on', 'either', 'population', 'drainage', 'or', 'biased', 'estimates', 'whereas', 'in', 'previous', 'research', 'different', 'techniques', 'of', 'reducing', 'sample', 'bias', 'have', 'been', 'proposed', 'and', 'deployed', 'the', 'debate', 'around', 'the', 'impact', 'of', 'sample', 'bias', 'itself', 'has', 'predominantly', 'been', 'held', 'on', 'a', 'theoretical', 'level', 'the', 'dataset', 'that', 'was', 'used', 'in', 'this', 'study', 'however', 'provides', 'the', 'opportunity', 'to', 'investigate', 'the', 'issue', 'in', 'an', 'empirical', 'setting', 'based', 'on', 'the', 'data', 'of', 'a', 'mail-order', 'company', 'offering', 'short', 'term', 'consumer', 'credit', 'to', 'their', 'consumers', 'we', 'show', 'that', 'given', 'a', 'certain', 'sample', 'size', 'sample', 'bias', 'has', 'a', 'significant', 'effect', 'on', 'consumer', 'credit-scoring', 'performance', 'and', 'profitability', 'its', 'effect', 'is', 'composed', 'of', 'the', 'inclusion', 'of', 'rejected', 'orders', 'in', 'the', 'scoring', 'model', 'and', 'the', 'inclusion', 'of', 'these', 'orders', 'into', 'the', 'variable-selection', 'process', 'the', 'impact', 'of', 'the', 'effect', 'of', 'sample', 'bias', 'on', 'consumer', 'credit', 'scoring', 'performance', 'and', 'profitability', 'is', 'limited', 'and', 'in', 'consumer', 'credit', 'scoring', 'by', 'merely', 'increasing', 'the', 'sample', 'size', 'of', 'the', 'biased', 'sample', 'the', 'impact', 'of', 'sample', 'bias', 'can', 'likely', 'be', 'reduced', 'hence', 'we', 'conclude', 'that', 'the', 'possible', 'impact', 'of', 'any', 'reduction', 'of', 'sample', 'bias', 'is', 'modest', 'in', 'a', 'consumer', 'credit', 'scoring', 'model', 'and', 'that', 'attention', 'might', 'optimally', 'be', 'focused', 'on', 'other', 'factors', 'leading', 'to', 'improved', 'consumer', 'credit', 'scoring', 'keywords', 'consumer', 'credit', 'scoring', 'sample', 'bias', 'reject', 'inference']\n",
      "\n",
      "number of total strings : 278\n"
     ]
    }
   ],
   "source": [
    "_text5 = \n",
    "print(_text5)\n",
    "print('')\n",
    "print( 'number of total strings :', len(_text5) )"
   ]
  },
  {
   "cell_type": "markdown",
   "id": "ccca2549",
   "metadata": {},
   "source": [
    "#### Step 6 : There are some compound strings, such as, seperated by dash. Need  to fix those strings."
   ]
  },
  {
   "cell_type": "markdown",
   "id": "effce9ec",
   "metadata": {},
   "source": [
    "Check & Learn : append() method of a list"
   ]
  },
  {
   "cell_type": "code",
   "execution_count": 20,
   "id": "b3adc14e",
   "metadata": {},
   "outputs": [],
   "source": [
    "# a = [1,2,3]\n",
    "# b = 99          # here b is a scalar\n",
    "# a.append(b)\n",
    "# print(a)"
   ]
  },
  {
   "cell_type": "markdown",
   "id": "77108de2",
   "metadata": {},
   "source": [
    "Check & Learn : extend() method of a list"
   ]
  },
  {
   "cell_type": "code",
   "execution_count": 21,
   "id": "03a45fb2",
   "metadata": {},
   "outputs": [],
   "source": [
    "# a = [1,2,3]\n",
    "# b = [99]        # here b is a single-element list\n",
    "# a.extend(b)\n",
    "# print(a)"
   ]
  },
  {
   "cell_type": "code",
   "execution_count": 22,
   "id": "a0ac96ad",
   "metadata": {},
   "outputs": [],
   "source": [
    "_text6 = []\n",
    "\n",
    "for elem in _text5:\n",
    "    e = elem.split('-')\n",
    "\n",
    "    if len(e) == 1:\n",
    "        _text6.append(e[0])\n",
    "    elif len(e) > 1:\n",
    "        _text6.extend(e)\n",
    "    else:\n",
    "        pass"
   ]
  },
  {
   "cell_type": "code",
   "execution_count": 23,
   "id": "f7010062",
   "metadata": {},
   "outputs": [
    {
     "name": "stdout",
     "output_type": "stream",
     "text": [
      "['1', 'the', 'impact', 'of', 'sample', 'bias', 'on', 'consumer', 'credit', 'scoring', 'performance', 'and', 'profitability', 'abstract', 'this', 'article', 'seeks', 'to', 'gain', 'insight', 'into', 'the', 'influence', 'of', 'sample', 'bias', 'in', 'a', 'consumer', 'credit', 'scoring', 'model', 'considering', 'the', 'vital', 'implications', 'on', 'revenues', 'and', 'costs', 'concerned', 'with', 'the', 'issuing', 'and', 'repayment', 'of', 'commercial', 'credit', 'predictive', 'performance', 'of', 'the', 'model', 'is', 'crucial', 'and', 'sample', 'bias', 'has', 'been', 'suggested', 'to', 'pose', 'a', 'sizeable', 'threat', 'to', 'profitability', 'due', 'to', 'its', 'implications', 'on', 'either', 'population', 'drainage', 'or', 'biased', 'estimates', 'whereas', 'in', 'previous', 'research', 'different', 'techniques', 'of', 'reducing', 'sample', 'bias', 'have', 'been', 'proposed', 'and', 'deployed', 'the', 'debate', 'around', 'the', 'impact', 'of', 'sample', 'bias', 'itself', 'has', 'predominantly', 'been', 'held', 'on', 'a', 'theoretical', 'level', 'the', 'dataset', 'that', 'was', 'used', 'in', 'this', 'study', 'however', 'provides', 'the', 'opportunity', 'to', 'investigate', 'the', 'issue', 'in', 'an', 'empirical', 'setting', 'based', 'on', 'the', 'data', 'of', 'a', 'mail', 'order', 'company', 'offering', 'short', 'term', 'consumer', 'credit', 'to', 'their', 'consumers', 'we', 'show', 'that', 'given', 'a', 'certain', 'sample', 'size', 'sample', 'bias', 'has', 'a', 'significant', 'effect', 'on', 'consumer', 'credit', 'scoring', 'performance', 'and', 'profitability', 'its', 'effect', 'is', 'composed', 'of', 'the', 'inclusion', 'of', 'rejected', 'orders', 'in', 'the', 'scoring', 'model', 'and', 'the', 'inclusion', 'of', 'these', 'orders', 'into', 'the', 'variable', 'selection', 'process', 'the', 'impact', 'of', 'the', 'effect', 'of', 'sample', 'bias', 'on', 'consumer', 'credit', 'scoring', 'performance', 'and', 'profitability', 'is', 'limited', 'and', 'in', 'consumer', 'credit', 'scoring', 'by', 'merely', 'increasing', 'the', 'sample', 'size', 'of', 'the', 'biased', 'sample', 'the', 'impact', 'of', 'sample', 'bias', 'can', 'likely', 'be', 'reduced', 'hence', 'we', 'conclude', 'that', 'the', 'possible', 'impact', 'of', 'any', 'reduction', 'of', 'sample', 'bias', 'is', 'modest', 'in', 'a', 'consumer', 'credit', 'scoring', 'model', 'and', 'that', 'attention', 'might', 'optimally', 'be', 'focused', 'on', 'other', 'factors', 'leading', 'to', 'improved', 'consumer', 'credit', 'scoring', 'keywords', 'consumer', 'credit', 'scoring', 'sample', 'bias', 'reject', 'inference']\n",
      "\n",
      "number of total strings : 281\n"
     ]
    }
   ],
   "source": [
    "print(_text6)\n",
    "print('')\n",
    "print( 'number of total strings :', len(_text6) )"
   ]
  },
  {
   "cell_type": "markdown",
   "id": "ed62884c",
   "metadata": {},
   "source": [
    "#### Step 7 : Remove stopwords"
   ]
  },
  {
   "cell_type": "markdown",
   "id": "4d04284a",
   "metadata": {},
   "source": [
    "First import `nltk` package"
   ]
  },
  {
   "cell_type": "code",
   "execution_count": 24,
   "id": "3c92a335",
   "metadata": {},
   "outputs": [],
   "source": [
    "# pip3 install nltk"
   ]
  },
  {
   "cell_type": "markdown",
   "id": "f6aa6187",
   "metadata": {},
   "source": [
    "Download `stopwords`"
   ]
  },
  {
   "cell_type": "code",
   "execution_count": 25,
   "id": "98e269fc",
   "metadata": {},
   "outputs": [],
   "source": [
    "# use this only once"
   ]
  },
  {
   "cell_type": "markdown",
   "id": "a0585815",
   "metadata": {},
   "source": [
    "Look at the list of english `stopwords`"
   ]
  },
  {
   "cell_type": "code",
   "execution_count": null,
   "id": "901315c1",
   "metadata": {},
   "outputs": [],
   "source": []
  },
  {
   "cell_type": "markdown",
   "id": "19a8ddba",
   "metadata": {},
   "source": [
    "How can you find Bangla stopwords?"
   ]
  },
  {
   "cell_type": "code",
   "execution_count": 27,
   "id": "4a6f0928",
   "metadata": {},
   "outputs": [],
   "source": [
    "# print(stopwords.words('bengali'))"
   ]
  },
  {
   "cell_type": "markdown",
   "id": "0390308d",
   "metadata": {},
   "source": [
    "Remove english stopwords from the list `_text6`"
   ]
  },
  {
   "cell_type": "code",
   "execution_count": 28,
   "id": "d91d7f99",
   "metadata": {},
   "outputs": [],
   "source": [
    "_text7 = []\n",
    "\n",
    "# write your code here"
   ]
  },
  {
   "cell_type": "code",
   "execution_count": 29,
   "id": "cb3efe52",
   "metadata": {},
   "outputs": [
    {
     "name": "stdout",
     "output_type": "stream",
     "text": [
      "['1', 'impact', 'sample', 'bias', 'consumer', 'credit', 'scoring', 'performance', 'profitability', 'abstract', 'article', 'seeks', 'gain', 'insight', 'influence', 'sample', 'bias', 'consumer', 'credit', 'scoring', 'model', 'considering', 'vital', 'implications', 'revenues', 'costs', 'concerned', 'issuing', 'repayment', 'commercial', 'credit', 'predictive', 'performance', 'model', 'crucial', 'sample', 'bias', 'suggested', 'pose', 'sizeable', 'threat', 'profitability', 'due', 'implications', 'either', 'population', 'drainage', 'biased', 'estimates', 'whereas', 'previous', 'research', 'different', 'techniques', 'reducing', 'sample', 'bias', 'proposed', 'deployed', 'debate', 'around', 'impact', 'sample', 'bias', 'predominantly', 'held', 'theoretical', 'level', 'dataset', 'used', 'study', 'however', 'provides', 'opportunity', 'investigate', 'issue', 'empirical', 'setting', 'based', 'data', 'mail', 'order', 'company', 'offering', 'short', 'term', 'consumer', 'credit', 'consumers', 'show', 'given', 'certain', 'sample', 'size', 'sample', 'bias', 'significant', 'effect', 'consumer', 'credit', 'scoring', 'performance', 'profitability', 'effect', 'composed', 'inclusion', 'rejected', 'orders', 'scoring', 'model', 'inclusion', 'orders', 'variable', 'selection', 'process', 'impact', 'effect', 'sample', 'bias', 'consumer', 'credit', 'scoring', 'performance', 'profitability', 'limited', 'consumer', 'credit', 'scoring', 'merely', 'increasing', 'sample', 'size', 'biased', 'sample', 'impact', 'sample', 'bias', 'likely', 'reduced', 'hence', 'conclude', 'possible', 'impact', 'reduction', 'sample', 'bias', 'modest', 'consumer', 'credit', 'scoring', 'model', 'attention', 'might', 'optimally', 'focused', 'factors', 'leading', 'improved', 'consumer', 'credit', 'scoring', 'keywords', 'consumer', 'credit', 'scoring', 'sample', 'bias', 'reject', 'inference']\n",
      "\n",
      "number of total strings : 169\n"
     ]
    }
   ],
   "source": [
    "print( _text7 )\n",
    "print('')\n",
    "print( 'number of total strings :', len(_text7) )"
   ]
  },
  {
   "cell_type": "markdown",
   "id": "e3d74bd4",
   "metadata": {},
   "source": [
    "#### Step 8 : Stemming words   \n",
    "\n",
    "`!!!! Use this step with caution !!!!`"
   ]
  },
  {
   "cell_type": "code",
   "execution_count": 30,
   "id": "6b38e8ba",
   "metadata": {},
   "outputs": [],
   "source": [
    "from nltk.stem.snowball import EnglishStemmer"
   ]
  },
  {
   "cell_type": "code",
   "execution_count": 34,
   "id": "12a1dcc8",
   "metadata": {},
   "outputs": [
    {
     "name": "stdout",
     "output_type": "stream",
     "text": [
      "['1', 'impact', 'sampl', 'bias', 'consum', 'credit', 'score', 'perform', 'profit', 'abstract', 'articl', 'seek', 'gain', 'insight', 'influenc', 'sampl', 'bias', 'consum', 'credit', 'score', 'model', 'consid', 'vital', 'implic', 'revenu', 'cost', 'concern', 'issu', 'repay', 'commerci', 'credit', 'predict', 'perform', 'model', 'crucial', 'sampl', 'bias', 'suggest', 'pose', 'sizeabl', 'threat', 'profit', 'due', 'implic', 'either', 'popul', 'drainag', 'bias', 'estim', 'wherea', 'previous', 'research', 'differ', 'techniqu', 'reduc', 'sampl', 'bias', 'propos', 'deploy', 'debat', 'around', 'impact', 'sampl', 'bias', 'predomin', 'held', 'theoret', 'level', 'dataset', 'use', 'studi', 'howev', 'provid', 'opportun', 'investig', 'issu', 'empir', 'set', 'base', 'data', 'mail', 'order', 'compani', 'offer', 'short', 'term', 'consum', 'credit', 'consum', 'show', 'given', 'certain', 'sampl', 'size', 'sampl', 'bias', 'signific', 'effect', 'consum', 'credit', 'score', 'perform', 'profit', 'effect', 'compos', 'inclus', 'reject', 'order', 'score', 'model', 'inclus', 'order', 'variabl', 'select', 'process', 'impact', 'effect', 'sampl', 'bias', 'consum', 'credit', 'score', 'perform', 'profit', 'limit', 'consum', 'credit', 'score', 'mere', 'increas', 'sampl', 'size', 'bias', 'sampl', 'impact', 'sampl', 'bias', 'like', 'reduc', 'henc', 'conclud', 'possibl', 'impact', 'reduct', 'sampl', 'bias', 'modest', 'consum', 'credit', 'score', 'model', 'attent', 'might', 'optim', 'focus', 'factor', 'lead', 'improv', 'consum', 'credit', 'score', 'keyword', 'consum', 'credit', 'score', 'sampl', 'bias', 'reject', 'infer']\n",
      "\n",
      "number of total strings : 169\n"
     ]
    }
   ],
   "source": [
    "stemmer = ????\n",
    "\n",
    "_text8 = ????\n",
    "\n",
    "print( _text8 )\n",
    "print('')\n",
    "print( 'number of total strings :', len(_text8) )"
   ]
  },
  {
   "cell_type": "markdown",
   "id": "e45b2224",
   "metadata": {},
   "source": [
    "## Part 3 : Porcess Data"
   ]
  },
  {
   "cell_type": "markdown",
   "id": "4abd497c",
   "metadata": {},
   "source": [
    "#### Step 1 : Save each page as a `key-value` pair in  a dictionary "
   ]
  },
  {
   "cell_type": "code",
   "execution_count": null,
   "id": "ca3e6f07",
   "metadata": {},
   "outputs": [],
   "source": []
  }
 ],
 "metadata": {
  "kernelspec": {
   "display_name": "Python 3",
   "language": "python",
   "name": "python3"
  },
  "language_info": {
   "codemirror_mode": {
    "name": "ipython",
    "version": 3
   },
   "file_extension": ".py",
   "mimetype": "text/x-python",
   "name": "python",
   "nbconvert_exporter": "python",
   "pygments_lexer": "ipython3",
   "version": "3.9.13"
  }
 },
 "nbformat": 4,
 "nbformat_minor": 5
}
